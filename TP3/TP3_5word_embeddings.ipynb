{
 "cells": [
  {
   "cell_type": "markdown",
   "metadata": {},
   "source": [
    "# Word Embeddings : le modèle Word2Vec"
   ]
  },
  {
   "cell_type": "markdown",
   "metadata": {},
   "source": [
    "## Imports"
   ]
  },
  {
   "cell_type": "code",
   "execution_count": 2,
   "metadata": {},
   "outputs": [],
   "source": [
    "import sys\n",
    "\n",
    "from gensim.models.phrases import Phrases, Phraser\n",
    "from gensim.models import Word2Vec\n",
    "\n",
    "import nltk\n",
    "from nltk.tokenize import wordpunct_tokenize\n",
    "from unidecode import unidecode"
   ]
  },
  {
   "cell_type": "markdown",
   "metadata": {},
   "source": [
    "## Chargement et traitement des phrases du corpus"
   ]
  },
  {
   "cell_type": "markdown",
   "metadata": {},
   "source": [
    "### Création d'un objet qui *streame* les lignes d'un fichier pour économiser de la RAM"
   ]
  },
  {
   "cell_type": "code",
   "execution_count": 3,
   "metadata": {},
   "outputs": [],
   "source": [
    "class MySentences(object):\n",
    "    \"\"\"Tokenize and Lemmatize sentences\"\"\"\n",
    "    def __init__(self, filename):\n",
    "        self.filename = filename\n",
    "\n",
    "    def __iter__(self):\n",
    "        for line in open(self.filename, encoding='utf-8', errors=\"backslashreplace\"):\n",
    "            yield [unidecode(w.lower()) for w in wordpunct_tokenize(line)]"
   ]
  },
  {
   "cell_type": "code",
   "execution_count": 4,
   "metadata": {},
   "outputs": [],
   "source": [
    "infile = f\"../data/sents.txt\"\n",
    "sentences = MySentences(infile)"
   ]
  },
  {
   "cell_type": "markdown",
   "metadata": {},
   "source": [
    "### Détection des bigrams\n",
    "\n",
    "Article intéressant sur le sujet : https://towardsdatascience.com/word2vec-for-phrases-learning-embeddings-for-more-than-one-word-727b6cf723cf"
   ]
  },
  {
   "cell_type": "code",
   "execution_count": 5,
   "metadata": {},
   "outputs": [],
   "source": [
    "bigram_phrases = Phrases(sentences)"
   ]
  },
  {
   "cell_type": "markdown",
   "metadata": {},
   "source": [
    "L'object `phrases` peut être vu comme un large dictionnaire d'expressions multi-mots associées à un score, le *PMI-like scoring*. Ce dictionnaire est construit par un apprentissage sur base d'exemples.\n",
    "Voir les références ci-dessous :\n",
    "- https://arxiv.org/abs/1310.4546\n",
    "- https://en.wikipedia.org/wiki/Pointwise_mutual_information"
   ]
  },
  {
   "cell_type": "code",
   "execution_count": 6,
   "metadata": {},
   "outputs": [
    {
     "data": {
      "text/plain": [
       "dict"
      ]
     },
     "execution_count": 6,
     "metadata": {},
     "output_type": "execute_result"
    }
   ],
   "source": [
    "type(bigram_phrases.vocab)"
   ]
  },
  {
   "cell_type": "markdown",
   "metadata": {},
   "source": [
    "Il contient de nombreuses clés qui sont autant de termes observés dans le corpus"
   ]
  },
  {
   "cell_type": "code",
   "execution_count": 7,
   "metadata": {},
   "outputs": [
    {
     "data": {
      "text/plain": [
       "258918"
      ]
     },
     "execution_count": 7,
     "metadata": {},
     "output_type": "execute_result"
    }
   ],
   "source": [
    "len(bigram_phrases.vocab.keys())"
   ]
  },
  {
   "cell_type": "markdown",
   "metadata": {},
   "source": [
    "Prenons une clé au hasard :"
   ]
  },
  {
   "cell_type": "code",
   "execution_count": 8,
   "metadata": {},
   "outputs": [
    {
     "name": "stdout",
     "output_type": "stream",
     "text": [
      "fi\n"
     ]
    }
   ],
   "source": [
    "key_ = list(bigram_phrases.vocab.keys())[144]\n",
    "print(key_)"
   ]
  },
  {
   "cell_type": "markdown",
   "metadata": {},
   "source": [
    "Le dictionnaire indique le score de cette coocurrence :"
   ]
  },
  {
   "cell_type": "code",
   "execution_count": 9,
   "metadata": {},
   "outputs": [
    {
     "data": {
      "text/plain": [
       "162"
      ]
     },
     "execution_count": 9,
     "metadata": {},
     "output_type": "execute_result"
    }
   ],
   "source": [
    "bigram_phrases.vocab[key_]"
   ]
  },
  {
   "cell_type": "markdown",
   "metadata": {},
   "source": [
    "Lorsque l'instance de `Phrases` a été entraînée, elle peut concaténer les bigrams dans les phrases lorsque c'est pertinent."
   ]
  },
  {
   "cell_type": "markdown",
   "metadata": {},
   "source": [
    "### Conversion des `Phrases` en objet `Phraser`\n",
    "\n",
    "`Phraser` est un alias pour `gensim.models.phrases.FrozenPhrases`, voir ici https://radimrehurek.com/gensim/models/phrases.html.\n",
    "\n",
    "Le `Phraser` est une version *light* du `Phrases`, plus optimale pour transformer les phrases en concaténant les bigrams."
   ]
  },
  {
   "cell_type": "code",
   "execution_count": 10,
   "metadata": {},
   "outputs": [],
   "source": [
    "bigram_phraser = Phraser(phrases_model=bigram_phrases)"
   ]
  },
  {
   "cell_type": "markdown",
   "metadata": {},
   "source": [
    "Le `Phraser` est un objet qui convertit certains unigrams d'une liste en bigrams lorsqu'ils ont été identifiés comme pertinents."
   ]
  },
  {
   "cell_type": "markdown",
   "metadata": {},
   "source": [
    "### Extraction des trigrams"
   ]
  },
  {
   "cell_type": "markdown",
   "metadata": {},
   "source": [
    "Nous répétons l'opération en envoyant cette fois la liste de bigrams afin d'extraire les trigrams."
   ]
  },
  {
   "cell_type": "code",
   "execution_count": 11,
   "metadata": {},
   "outputs": [],
   "source": [
    "trigram_phrases = Phrases(bigram_phraser[sentences])"
   ]
  },
  {
   "cell_type": "code",
   "execution_count": 12,
   "metadata": {},
   "outputs": [],
   "source": [
    "trigram_phraser = Phraser(phrases_model=trigram_phrases)"
   ]
  },
  {
   "cell_type": "markdown",
   "metadata": {},
   "source": [
    "### Création d'un corpus d'unigrams, bigrams, trigrams"
   ]
  },
  {
   "cell_type": "code",
   "execution_count": 13,
   "metadata": {},
   "outputs": [],
   "source": [
    "corpus = list(trigram_phraser[bigram_phraser[sentences]])"
   ]
  },
  {
   "cell_type": "code",
   "execution_count": 14,
   "metadata": {},
   "outputs": [
    {
     "name": "stdout",
     "output_type": "stream",
     "text": [
      "[['m'], ['#', 'mi', '-.......', 'nefoiifotamm', '.'], ['13', '.', '50', ';', '4', 'derniers', 'mois', ',', '15', '.', '70', ':', 'i', 'moto', 'de', 'novembre', ','], ['1', '.'], ['--', 'a', 'relut', ',', 'courant', ',', 'i3jrh', 'aaptemfere', ',', '15', '.', '78', '>>'], [\"'\", 'sidt', 'm', '!>>', 'a', 'ib0o', \"<<'\", '*', 'm0fa', '**'], ['**', '<<*-'], ['je', '%', 'i', 'i', '&', 'z', '>>', 'tsssix', '.'], ['premiere', 'installation', 'da'], ['systeme', 'kneipp'], ['dans', '1', '*', 'prou', '.'], ['rhenane', 'et', 'tallemagne', 'du', 'kord'], ['oe', '.', 'we', 'oo', '.', 'to', ';', 'poil', '.'], ['0', '.>>', '4', '9', '.', '40', ';', 'peche', '*,', 'tte', 'fi', '1', '.', '6', '*;', 'tac'], ['raisin', '*', 'noirs', '.'], ['1', '.', '80', '4', '4', '.', '00', ')', 'm', '.', 'fctanm', ',', '1', '.', '58', '4', '3jd', ';', '-', 'n', '/'], ['eb'], ['tomate', '*,', '0', '.', '50', '4', '9', '.', '80', '.'], ['m', 'sacres', '(', 'aux'], ['roux', '88', '>>,'], ['88', '<<.'], ['36', '.', '45', '/', '00'], ['31'], ['00', ')', 'ld', '.'], ['teaoes', 'a', '*', 't', '.', 'aout', ','], ['recommandee', 'par', 'plusieun', 'lommilea', 'medicales', 'bel'], ['37', '.', '00_;', '4', 'moto', 'd', \"'\", 'octobre', ',', '36', '.', '48', ';', 'ges', 'et', 'auemaades', \"'\", 'site', 'charmant', ',', 'contree', 'montagneuse'], ['poissons', '.--', 'bcrevlaaet', ',', 'le', 'cent', '.'], ['8', '.', '06410', '.', '08', ';', 'hnltrm', ',', '37', '.', '00', ')', 'septembre', ',', '8', \"'\"], ['et'], ['boisee', ',', 'confert', 'satisfaisant', 'toutes', 'exigences', ',', 'cha_'], ['#', 'iafflta', \"'\", 'fa', \"'\", 'priifiv'], ['t', '-', 'm', '4', '3', '.', '80', ';', 'homards', ',', 'la', 'ptoca', '>>', '<<.', '08', '4', 'us', '.'], ['prin', 'extremes', '),', '104', '.', '00', '/', '104', '50', '.'], ['pelle', 'privee', 'd', '*', 'retablissement', ',', 'promenades', 'couvertes'], ['aloat', ',', 'g', 'aout', '.'], ['-', 'boumou', 'ftssi', '(', 'prime', '.'], ['ma', '50'], ['et', 'jardins', \"d_'_hiver\", '.--', 'traitement', 'en', 'tontes', 'saisons', '.'], ['--------', '-------', '5', 'aout', '.'], ['--', 'spiritueux', ':', 'moutnijo', ','], ['kil', '.'], ['fr', '.'], ['00', '.', '00', '4', '00', '.', '00_;', 'id', '.'], ['l', '>', 'v', 'gggm', '.'], ['mumi', 'ma', '*)', 'ia', ','], ['succes', 'special', 'pr', 'ta', '*', 'maladies', 'des', 'nerfe', ',', 'd', \"'\", 'estomac', ','], ['ixeues', '.'], ['--', 'declarations', 'du', '11', 'au', '*', '6', 'juillet', ':'], ['i', '>', 'qualite', ',', 'oo', '>>', '0', 'a', '00', '.', '00_;', 'froment', ',', 'les', '13', '*', 'h', 'tres', '50', 'cent', '..', 'flor', '..', '8', '.', '60', ':', 'genievre', ',', '13', '.', '50', ';', 'prenve', 'd', \"'\", 'amsterdam', ','], ['rhumatisme', 'et', 'paralysie', '.'], ['--', 'prospectus', 'r', 'demande', '.'], ['naissances_:', '7', 'garcons', 'et', '7', 'filles', '.'], ['14', '.', '73', '.'], ['19', '.', '50', '4', '10', '.', '50', ';', 'metell', ',', '17', '.', '00', '4', '00', '.', '00', ',', 'seigle', '.'], ['13', '.', '00', '4'], ['mariages', ':', 'gbys', ',', 'colonel', 'en', 'retraite', ',', 'a', 'molenbeekve', 'euteneuer', ',', 'med', '.-', 'dirigs', 'specialiste', 'poor', 'la', 'vue', 'et'], ['^', 'ilhcnua', '-', 'myrk', '#,', '6_aout', '.'], ['--', 'agio', 'ht', 'l', \"'<<,\"], ['st_-_jean', ',', 'ef', 'pien', ',', 'proprietaire', ',', 'rue', 'americaine', '.'], ['--', 'pe'], ['iule', ',', 'ancien', 'assiston', '!'], ['de', 'eneipp', '.'], ['7511'], ['tit', ',', 'cocher', ',', 'a', 'bruxelles', ',', 'et', 'ubioulle', ',', 'femme', 'dechu'], ['8', '.', '7', '*', '4', '7', '.', '88', ',', 'cenfc', ',', 'fee', 'm', ',', '1', '.', '10', '4', '1', '.', '08c', 'lin', ',', 'h', '*', 'i', 'kite', '*.'], ['now', '-', 'verk', ','], ['5'], ['bre', ',', 'rue', 'eeyenveld', '.'], ['--', 'deblon', ',', 'ingenienr', ',', 'rue'], ['1', '.', '7', '<<', '4', '3', '.', '70', ',', 'cochon', '*', 'de', 'lait', ',', '*<.', '00430', '.', '00_;', 'oignons', ',', 'to', '*', '187', '0_/_0', ';', 'id', '.'], ['tor', 'paria', ',', '517', '1_/', '4', ';', 'i', 'p', '.', 'e', '.', 'fended', 'loan', ','], ['l', \"'\", 'arbre', '-', 'lenit', ',', 'm', 'de', 'meaten', 'de', 'borne', ',', 'rentiere', ',', 'a', '190', 'klim', ',', '00', '.', '00', '4', '00', ',', '00', '.'], ['116', '0_/_0', ';', 'actions', 'chemin_de_fer', 'crie', ',', '49', '1_/', '4', ';', 'minois', 'aha'], ['isfiaretiuu', '*.'], ['--', 'imberechts', ',', 'employe', ',', 'a', 'saint_-', 'gilles', ',', 'et'], ['depot', 'rue', 'du', 'cypres', ',', '8', ',', 'brui', '.,'], ['i', 'fl', '/', 's', '10', '3_/', '4', ')'], ['racldc', ','], ['uragra', ',', '8_aout', '.'], ['--_froment', ',', 'to', '*', '100', 'khot', ',', 'tr', '.'], ['rj', '*', 't', '103', '3_/', '8', ':', 'wabash', 'saiut', '-', 'loui', '>>', 'et', 'daas'], ['avrttz', ',', 'sana', 'profession', ',', 'me', 'mulibran', '.'], ['--', 'unreal', ',', 'em_'], ['chremu', '.'], ['lennon', 'et', 'ov', '761', '>>'], ['baton', 'pacific', 'shares', ',', '38', '3_/', '4', ';', 'cam'], ['*', '0', '.', '00_;'], ['seigle', ','], ['17', '.', '50', ';'], ['sarrasia', ','], ['0040', ';'], ['avola', '*,'], ['17', ',', '50', ';'], ['ploye', ',', 'a', 'fit', '-', 'josm', '-', 'ton', '-', 'noode', ',', 'm', 'bliefex', ',', 'tan', '*', 'ntedwalon', ','], ['ge', ',', '00', '.', '00_;', 'pommes_de', 'terra', '.'], ['8', '-', '90', ';', 'fovea', ',', '09', '.', '00_;', '30', '<', '9', '/_0', ';', 'denver', 'shares', ',', '16', '0_/', '9', '.'], ['m', 'anoul', '--', 'fore', ',', 'macao', ',', 'et', 'tngels', ',', 'lavandiere', ','], ['lune', ',', 'le_kilo', ',', 't', '.', '45', ';', 'lin', '.'], ['t', '.', 'jr', ';', 'nraargeon', ',', '00', '.', '08', '.']]\n"
     ]
    }
   ],
   "source": [
    "print(corpus[:100])"
   ]
  },
  {
   "cell_type": "markdown",
   "metadata": {},
   "source": [
    "## Entrainement d'un modèle Word2Vec sur ce corpus"
   ]
  },
  {
   "cell_type": "code",
   "execution_count": 15,
   "metadata": {},
   "outputs": [
    {
     "name": "stdout",
     "output_type": "stream",
     "text": [
      "CPU times: total: 234 ms\n",
      "Wall time: 1.17 s\n"
     ]
    }
   ],
   "source": [
    "%%time\n",
    "model = Word2Vec(\n",
    "    corpus, # On passe le corpus de ngrams que nous venons de créer\n",
    "    vector_size=32, # Le nombre de dimensions dans lesquelles le contexte des mots devra être réduit, aka. vector_size\n",
    "    window=5, # La taille du \"contexte\", ici 5 mots avant et après le mot observé\n",
    "    min_count=5, # On ignore les mots qui n'apparaissent pas au moins 5 fois dans le corpus\n",
    "    workers=4, # Permet de paralléliser l'entraînement du modèle en 4 threads\n",
    "    epochs=5 # Nombre d'itérations du réseau de neurones sur le jeu de données pour ajuster les paramètres avec la descente de gradient, aka. epochs.\n",
    ")"
   ]
  },
  {
   "cell_type": "markdown",
   "metadata": {},
   "source": [
    "#### Remarque\n",
    "\n",
    "Vous voyez ici que l'entrainement du modèle est parallélisé (sur 4 workers).\n",
    "\n",
    "Lors qu'on parallélise l'entrainement du modèle, 4 modèles \"séparés\" sont entrainés sur environ un quart des phrases.\n",
    "\n",
    "Ensuite, les résultats sont agrégés pour ne plus faire qu'un seul modèle.\n",
    "\n",
    "On ne peut prédire quel worker aura quelle phrase, car il y a des aléas lors de la parallélisation (p. ex. un worker qui serait plus lent, etc.).\n",
    "\n",
    "Du coup, les valeurs peuvent varier légèrement d'un entrainement à l'autre.\n",
    "\n",
    "Mais, globalement, les résultats restent cohérents."
   ]
  },
  {
   "cell_type": "markdown",
   "metadata": {},
   "source": [
    "### Sauver le modèle dans un fichier"
   ]
  },
  {
   "cell_type": "code",
   "execution_count": 16,
   "metadata": {},
   "outputs": [],
   "source": [
    "outfile = f\"../data/newspapers.model\"\n",
    "model.save(outfile)"
   ]
  },
  {
   "cell_type": "markdown",
   "metadata": {},
   "source": [
    "## Explorer le modèle"
   ]
  },
  {
   "cell_type": "markdown",
   "metadata": {},
   "source": [
    "### Charger le modèle en mémoire"
   ]
  },
  {
   "cell_type": "code",
   "execution_count": 17,
   "metadata": {},
   "outputs": [],
   "source": [
    "model = Word2Vec.load(\"../data/newspapers.model\")"
   ]
  },
  {
   "cell_type": "markdown",
   "metadata": {},
   "source": [
    "### Imprimer le vecteur d'un terme"
   ]
  },
  {
   "cell_type": "code",
   "execution_count": 18,
   "metadata": {},
   "outputs": [
    {
     "data": {
      "text/plain": [
       "array([ 0.00275539,  0.43152502,  0.0891262 , -0.2329914 ,  0.3507947 ,\n",
       "       -0.7431653 ,  0.26039115,  0.0930851 ,  0.00857067,  0.31968012,\n",
       "        0.53089696, -0.02572164,  0.3474256 , -0.65984607, -0.25924966,\n",
       "        0.2653794 ,  0.22280288,  0.5273286 , -0.38808244, -0.41313326,\n",
       "        0.1764871 ,  0.15062514, -0.30302158,  0.22767119,  0.53613317,\n",
       "       -0.12255716, -0.13161968, -0.03128849,  0.57644284, -1.0341347 ,\n",
       "        0.12781855,  0.20659375], dtype=float32)"
      ]
     },
     "execution_count": 18,
     "metadata": {},
     "output_type": "execute_result"
    }
   ],
   "source": [
    "model.wv[\"ministre\"]"
   ]
  },
  {
   "cell_type": "markdown",
   "metadata": {},
   "source": [
    "### Calculer la similarité entre deux termes"
   ]
  },
  {
   "cell_type": "code",
   "execution_count": 19,
   "metadata": {},
   "outputs": [
    {
     "data": {
      "text/plain": [
       "0.98477685"
      ]
     },
     "execution_count": 19,
     "metadata": {},
     "output_type": "execute_result"
    }
   ],
   "source": [
    "model.wv.similarity(\"ministre\", \"roi\")"
   ]
  },
  {
   "cell_type": "markdown",
   "metadata": {},
   "source": [
    "### Chercher les mots les plus proches d'un terme donné"
   ]
  },
  {
   "cell_type": "code",
   "execution_count": 20,
   "metadata": {},
   "outputs": [
    {
     "data": {
      "text/plain": [
       "[('la_nouvelle', 0.9958145618438721),\n",
       " ('commerce', 0.9955487847328186),\n",
       " ('fois', 0.9950734972953796),\n",
       " ('campagne', 0.9945998787879944),\n",
       " ('commission', 0.9943875670433044),\n",
       " ('cinq', 0.9943042993545532),\n",
       " ('actuel', 0.994273841381073),\n",
       " ('pierre', 0.9941421151161194),\n",
       " ('route', 0.994003415107727),\n",
       " ('monde', 0.9939625263214111)]"
      ]
     },
     "execution_count": 20,
     "metadata": {},
     "output_type": "execute_result"
    }
   ],
   "source": [
    "model.wv.most_similar(\"ministre\", topn=10)"
   ]
  },
  {
   "cell_type": "markdown",
   "metadata": {},
   "source": [
    "### Faire des recherches complexes à travers l'espace vectoriel"
   ]
  },
  {
   "cell_type": "code",
   "execution_count": 21,
   "metadata": {},
   "outputs": [
    {
     "name": "stdout",
     "output_type": "stream",
     "text": [
      "[('soir', 0.9956175684928894), ('terre', 0.9877416491508484), ('marche', 0.987115740776062), ('france', 0.986911416053772), ('jean', 0.9868416786193848), ('duchesse', 0.9866959452629089), ('neuf', 0.9857171773910522), ('grand', 0.9854491353034973), ('demain', 0.984891951084137), ('grande', 0.9843817353248596)]\n"
     ]
    },
    {
     "ename": "",
     "evalue": "",
     "output_type": "error",
     "traceback": [
      "\u001b[1;31mThe Kernel crashed while executing code in the the current cell or a previous cell. Please review the code in the cell(s) to identify a possible cause of the failure. Click <a href='https://aka.ms/vscodeJupyterKernelCrash'>here</a> for more info. View Jupyter <a href='command:jupyter.viewOutput'>log</a> for further details."
     ]
    }
   ],
   "source": [
    "print(model.wv.most_similar(positive=['paris', 'londres'], negative=['belgique']))"
   ]
  }
 ],
 "metadata": {
  "kernelspec": {
   "display_name": "Python 3.10.5 ('tac_venv': venv)",
   "language": "python",
   "name": "python3"
  },
  "language_info": {
   "codemirror_mode": {
    "name": "ipython",
    "version": 3
   },
   "file_extension": ".py",
   "mimetype": "text/x-python",
   "name": "python",
   "nbconvert_exporter": "python",
   "pygments_lexer": "ipython3",
   "version": "3.11.6"
  },
  "vscode": {
   "interpreter": {
    "hash": "b1932ab1d169b4769d1550e799423b6477588e745f266d79d9004c136c81607e"
   }
  }
 },
 "nbformat": 4,
 "nbformat_minor": 4
}
